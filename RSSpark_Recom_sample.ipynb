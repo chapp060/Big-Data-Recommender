{
 "cells": [
  {
   "cell_type": "code",
   "execution_count": 1,
   "metadata": {
    "collapsed": true
   },
   "outputs": [],
   "source": [
    "from pyspark.mllib.recommendation import ALS\n",
    "from numpy import array\n",
    "import math"
   ]
  },
  {
   "cell_type": "code",
   "execution_count": 66,
   "metadata": {
    "collapsed": false
   },
   "outputs": [
    {
     "data": {
      "text/plain": [
       "[[u'b80344d063b5ccb3212f76538f3d9e43d87dca9e', u'SOAKIMP12A8C130995', u'1'],\n",
       " [u'b80344d063b5ccb3212f76538f3d9e43d87dca9e', u'SOBBMDR12A8C13253B', u'2'],\n",
       " [u'b80344d063b5ccb3212f76538f3d9e43d87dca9e', u'SOBXHDL12A81C204C0', u'1'],\n",
       " [u'b80344d063b5ccb3212f76538f3d9e43d87dca9e', u'SOBYHAJ12A6701BF1D', u'1'],\n",
       " [u'b80344d063b5ccb3212f76538f3d9e43d87dca9e', u'SODACBL12A8C13C273', u'1']]"
      ]
     },
     "execution_count": 66,
     "metadata": {},
     "output_type": "execute_result"
    }
   ],
   "source": [
    "import pandas as pd\n",
    "df = sc.textFile('file:/vagrant/triplets_file.txt').map(lambda x: x.split(\"\\t\"))\n",
    "df.zipWithIndex().take(5)\n",
    "df_songs = pd.read_csv('file:/vagrant/song_data.csv')\n",
    "df.columns = ['user', 'song', 'listens']\n"
   ]
  },
  {
   "cell_type": "code",
   "execution_count": 3,
   "metadata": {
    "collapsed": false,
    "scrolled": true
   },
   "outputs": [
    {
     "data": {
      "text/html": [
       "<div>\n",
       "<table border=\"1\" class=\"dataframe\">\n",
       "  <thead>\n",
       "    <tr style=\"text-align: right;\">\n",
       "      <th></th>\n",
       "      <th>song_id</th>\n",
       "      <th>title</th>\n",
       "      <th>release</th>\n",
       "      <th>artist_name</th>\n",
       "      <th>year</th>\n",
       "    </tr>\n",
       "  </thead>\n",
       "  <tbody>\n",
       "    <tr>\n",
       "      <th>0</th>\n",
       "      <td>SOQMMHC12AB0180CB8</td>\n",
       "      <td>Silent Night</td>\n",
       "      <td>Monster Ballads X-Mas</td>\n",
       "      <td>Faster Pussy cat</td>\n",
       "      <td>2003</td>\n",
       "    </tr>\n",
       "    <tr>\n",
       "      <th>1</th>\n",
       "      <td>SOVFVAK12A8C1350D9</td>\n",
       "      <td>Tanssi vaan</td>\n",
       "      <td>Karkuteillä</td>\n",
       "      <td>Karkkiautomaatti</td>\n",
       "      <td>1995</td>\n",
       "    </tr>\n",
       "    <tr>\n",
       "      <th>2</th>\n",
       "      <td>SOGTUKN12AB017F4F1</td>\n",
       "      <td>No One Could Ever</td>\n",
       "      <td>Butter</td>\n",
       "      <td>Hudson Mohawke</td>\n",
       "      <td>2006</td>\n",
       "    </tr>\n",
       "    <tr>\n",
       "      <th>3</th>\n",
       "      <td>SOBNYVR12A8C13558C</td>\n",
       "      <td>Si Vos Querés</td>\n",
       "      <td>De Culo</td>\n",
       "      <td>Yerba Brava</td>\n",
       "      <td>2003</td>\n",
       "    </tr>\n",
       "    <tr>\n",
       "      <th>4</th>\n",
       "      <td>SOHSBXH12A8C13B0DF</td>\n",
       "      <td>Tangle Of Aspens</td>\n",
       "      <td>Rene Ablaze Presents Winter Sessions</td>\n",
       "      <td>Der Mystic</td>\n",
       "      <td>0</td>\n",
       "    </tr>\n",
       "  </tbody>\n",
       "</table>\n",
       "</div>"
      ],
      "text/plain": [
       "              song_id              title  \\\n",
       "0  SOQMMHC12AB0180CB8       Silent Night   \n",
       "1  SOVFVAK12A8C1350D9        Tanssi vaan   \n",
       "2  SOGTUKN12AB017F4F1  No One Could Ever   \n",
       "3  SOBNYVR12A8C13558C      Si Vos Querés   \n",
       "4  SOHSBXH12A8C13B0DF   Tangle Of Aspens   \n",
       "\n",
       "                                release       artist_name  year  \n",
       "0                 Monster Ballads X-Mas  Faster Pussy cat  2003  \n",
       "1                           Karkuteillä  Karkkiautomaatti  1995  \n",
       "2                                Butter    Hudson Mohawke  2006  \n",
       "3                               De Culo       Yerba Brava  2003  \n",
       "4  Rene Ablaze Presents Winter Sessions        Der Mystic     0  "
      ]
     },
     "execution_count": 3,
     "metadata": {},
     "output_type": "execute_result"
    }
   ],
   "source": [
    "df_songs.head()"
   ]
  },
  {
   "cell_type": "code",
   "execution_count": 68,
   "metadata": {
    "collapsed": false
   },
   "outputs": [
    {
     "data": {
      "text/plain": [
       "[([u'b80344d063b5ccb3212f76538f3d9e43d87dca9e', u'SOAKIMP12A8C130995', u'1'],\n",
       "  0),\n",
       " ([u'b80344d063b5ccb3212f76538f3d9e43d87dca9e', u'SOBBMDR12A8C13253B', u'2'],\n",
       "  1),\n",
       " ([u'b80344d063b5ccb3212f76538f3d9e43d87dca9e', u'SOBXHDL12A81C204C0', u'1'],\n",
       "  2),\n",
       " ([u'b80344d063b5ccb3212f76538f3d9e43d87dca9e', u'SOBYHAJ12A6701BF1D', u'1'],\n",
       "  3),\n",
       " ([u'b80344d063b5ccb3212f76538f3d9e43d87dca9e', u'SODACBL12A8C13C273', u'1'],\n",
       "  4)]"
      ]
     },
     "execution_count": 68,
     "metadata": {},
     "output_type": "execute_result"
    }
   ],
   "source": [
    "df.zipWithIndex().take(5)"
   ]
  },
  {
   "cell_type": "code",
   "execution_count": 4,
   "metadata": {
    "collapsed": false
   },
   "outputs": [],
   "source": [
    "from sklearn import preprocessing\n",
    "\n",
    "user_id_le = preprocessing.LabelEncoder()\n",
    "song_id_le = preprocessing.LabelEncoder()\n",
    "\n",
    "user_id_le.fit(df.user)\n",
    "song_id_le.fit(df_songs.song_id)\n",
    "df['user_1'] = user_id_le.transform(df.user)\n",
    "df_songs['song_id_1']= song_id_le.transform(df_songs.song_id)"
   ]
  },
  {
   "cell_type": "code",
   "execution_count": 60,
   "metadata": {
    "collapsed": false
   },
   "outputs": [
    {
     "data": {
      "text/html": [
       "<div>\n",
       "<table border=\"1\" class=\"dataframe\">\n",
       "  <thead>\n",
       "    <tr style=\"text-align: right;\">\n",
       "      <th></th>\n",
       "      <th>user</th>\n",
       "      <th>song</th>\n",
       "      <th>listens</th>\n",
       "      <th>user_1</th>\n",
       "    </tr>\n",
       "  </thead>\n",
       "  <tbody>\n",
       "    <tr>\n",
       "      <th>0</th>\n",
       "      <td>b80344d063b5ccb3212f76538f3d9e43d87dca9e</td>\n",
       "      <td>SOAKIMP12A8C130995</td>\n",
       "      <td>1.0</td>\n",
       "      <td>2542</td>\n",
       "    </tr>\n",
       "    <tr>\n",
       "      <th>1</th>\n",
       "      <td>b80344d063b5ccb3212f76538f3d9e43d87dca9e</td>\n",
       "      <td>SOBBMDR12A8C13253B</td>\n",
       "      <td>2.0</td>\n",
       "      <td>2542</td>\n",
       "    </tr>\n",
       "    <tr>\n",
       "      <th>2</th>\n",
       "      <td>b80344d063b5ccb3212f76538f3d9e43d87dca9e</td>\n",
       "      <td>SOBXHDL12A81C204C0</td>\n",
       "      <td>1.0</td>\n",
       "      <td>2542</td>\n",
       "    </tr>\n",
       "    <tr>\n",
       "      <th>3</th>\n",
       "      <td>b80344d063b5ccb3212f76538f3d9e43d87dca9e</td>\n",
       "      <td>SOBYHAJ12A6701BF1D</td>\n",
       "      <td>1.0</td>\n",
       "      <td>2542</td>\n",
       "    </tr>\n",
       "    <tr>\n",
       "      <th>4</th>\n",
       "      <td>b80344d063b5ccb3212f76538f3d9e43d87dca9e</td>\n",
       "      <td>SODACBL12A8C13C273</td>\n",
       "      <td>1.0</td>\n",
       "      <td>2542</td>\n",
       "    </tr>\n",
       "    <tr>\n",
       "      <th>5</th>\n",
       "      <td>b80344d063b5ccb3212f76538f3d9e43d87dca9e</td>\n",
       "      <td>SODDNQT12A6D4F5F7E</td>\n",
       "      <td>5.0</td>\n",
       "      <td>2542</td>\n",
       "    </tr>\n",
       "    <tr>\n",
       "      <th>6</th>\n",
       "      <td>b80344d063b5ccb3212f76538f3d9e43d87dca9e</td>\n",
       "      <td>SODXRTY12AB0180F3B</td>\n",
       "      <td>1.0</td>\n",
       "      <td>2542</td>\n",
       "    </tr>\n",
       "    <tr>\n",
       "      <th>7</th>\n",
       "      <td>b80344d063b5ccb3212f76538f3d9e43d87dca9e</td>\n",
       "      <td>SOFGUAY12AB017B0A8</td>\n",
       "      <td>1.0</td>\n",
       "      <td>2542</td>\n",
       "    </tr>\n",
       "    <tr>\n",
       "      <th>8</th>\n",
       "      <td>b80344d063b5ccb3212f76538f3d9e43d87dca9e</td>\n",
       "      <td>SOFRQTD12A81C233C0</td>\n",
       "      <td>1.0</td>\n",
       "      <td>2542</td>\n",
       "    </tr>\n",
       "    <tr>\n",
       "      <th>9</th>\n",
       "      <td>b80344d063b5ccb3212f76538f3d9e43d87dca9e</td>\n",
       "      <td>SOHQWYZ12A6D4FA701</td>\n",
       "      <td>1.0</td>\n",
       "      <td>2542</td>\n",
       "    </tr>\n",
       "    <tr>\n",
       "      <th>10</th>\n",
       "      <td>b80344d063b5ccb3212f76538f3d9e43d87dca9e</td>\n",
       "      <td>SOIYTOA12A6D4F9A23</td>\n",
       "      <td>1.0</td>\n",
       "      <td>2542</td>\n",
       "    </tr>\n",
       "    <tr>\n",
       "      <th>11</th>\n",
       "      <td>b80344d063b5ccb3212f76538f3d9e43d87dca9e</td>\n",
       "      <td>SOIZAZL12A6701C53B</td>\n",
       "      <td>5.0</td>\n",
       "      <td>2542</td>\n",
       "    </tr>\n",
       "    <tr>\n",
       "      <th>12</th>\n",
       "      <td>b80344d063b5ccb3212f76538f3d9e43d87dca9e</td>\n",
       "      <td>SOJNNUA12A8AE48C7A</td>\n",
       "      <td>1.0</td>\n",
       "      <td>2542</td>\n",
       "    </tr>\n",
       "    <tr>\n",
       "      <th>13</th>\n",
       "      <td>b80344d063b5ccb3212f76538f3d9e43d87dca9e</td>\n",
       "      <td>SOJPFQG12A58A7833A</td>\n",
       "      <td>1.0</td>\n",
       "      <td>2542</td>\n",
       "    </tr>\n",
       "    <tr>\n",
       "      <th>14</th>\n",
       "      <td>b80344d063b5ccb3212f76538f3d9e43d87dca9e</td>\n",
       "      <td>SOKRIMP12A6D4F5DA3</td>\n",
       "      <td>5.0</td>\n",
       "      <td>2542</td>\n",
       "    </tr>\n",
       "    <tr>\n",
       "      <th>15</th>\n",
       "      <td>b80344d063b5ccb3212f76538f3d9e43d87dca9e</td>\n",
       "      <td>SOLLGNU12AF72A4D4F</td>\n",
       "      <td>1.0</td>\n",
       "      <td>2542</td>\n",
       "    </tr>\n",
       "    <tr>\n",
       "      <th>16</th>\n",
       "      <td>b80344d063b5ccb3212f76538f3d9e43d87dca9e</td>\n",
       "      <td>SOMGIYR12AB0187973</td>\n",
       "      <td>6.0</td>\n",
       "      <td>2542</td>\n",
       "    </tr>\n",
       "    <tr>\n",
       "      <th>17</th>\n",
       "      <td>b80344d063b5ccb3212f76538f3d9e43d87dca9e</td>\n",
       "      <td>SOMLMKI12A81C204BC</td>\n",
       "      <td>1.0</td>\n",
       "      <td>2542</td>\n",
       "    </tr>\n",
       "    <tr>\n",
       "      <th>18</th>\n",
       "      <td>b80344d063b5ccb3212f76538f3d9e43d87dca9e</td>\n",
       "      <td>SOMSQJY12A8C138539</td>\n",
       "      <td>1.0</td>\n",
       "      <td>2542</td>\n",
       "    </tr>\n",
       "    <tr>\n",
       "      <th>19</th>\n",
       "      <td>b80344d063b5ccb3212f76538f3d9e43d87dca9e</td>\n",
       "      <td>SONSAEZ12A8C138D7A</td>\n",
       "      <td>1.0</td>\n",
       "      <td>2542</td>\n",
       "    </tr>\n",
       "    <tr>\n",
       "      <th>20</th>\n",
       "      <td>b80344d063b5ccb3212f76538f3d9e43d87dca9e</td>\n",
       "      <td>SOOKGRB12A8C13CD66</td>\n",
       "      <td>1.0</td>\n",
       "      <td>2542</td>\n",
       "    </tr>\n",
       "    <tr>\n",
       "      <th>21</th>\n",
       "      <td>b80344d063b5ccb3212f76538f3d9e43d87dca9e</td>\n",
       "      <td>SOPCVQE12AC468AF36</td>\n",
       "      <td>1.0</td>\n",
       "      <td>2542</td>\n",
       "    </tr>\n",
       "    <tr>\n",
       "      <th>22</th>\n",
       "      <td>b80344d063b5ccb3212f76538f3d9e43d87dca9e</td>\n",
       "      <td>SOQIVUD12AB01821D2</td>\n",
       "      <td>1.0</td>\n",
       "      <td>2542</td>\n",
       "    </tr>\n",
       "    <tr>\n",
       "      <th>23</th>\n",
       "      <td>b80344d063b5ccb3212f76538f3d9e43d87dca9e</td>\n",
       "      <td>SOQJLDY12AAF3B456D</td>\n",
       "      <td>1.0</td>\n",
       "      <td>2542</td>\n",
       "    </tr>\n",
       "    <tr>\n",
       "      <th>24</th>\n",
       "      <td>b80344d063b5ccb3212f76538f3d9e43d87dca9e</td>\n",
       "      <td>SOQLCKR12A81C22440</td>\n",
       "      <td>1.0</td>\n",
       "      <td>2542</td>\n",
       "    </tr>\n",
       "    <tr>\n",
       "      <th>25</th>\n",
       "      <td>b80344d063b5ccb3212f76538f3d9e43d87dca9e</td>\n",
       "      <td>SORPMYJ12AF729EB90</td>\n",
       "      <td>1.0</td>\n",
       "      <td>2542</td>\n",
       "    </tr>\n",
       "    <tr>\n",
       "      <th>26</th>\n",
       "      <td>b80344d063b5ccb3212f76538f3d9e43d87dca9e</td>\n",
       "      <td>SORQHCG12A58A7EEBA</td>\n",
       "      <td>1.0</td>\n",
       "      <td>2542</td>\n",
       "    </tr>\n",
       "    <tr>\n",
       "      <th>27</th>\n",
       "      <td>b80344d063b5ccb3212f76538f3d9e43d87dca9e</td>\n",
       "      <td>SORUFVF12AB018230B</td>\n",
       "      <td>1.0</td>\n",
       "      <td>2542</td>\n",
       "    </tr>\n",
       "    <tr>\n",
       "      <th>28</th>\n",
       "      <td>b80344d063b5ccb3212f76538f3d9e43d87dca9e</td>\n",
       "      <td>SORWLTW12A670208FA</td>\n",
       "      <td>1.0</td>\n",
       "      <td>2542</td>\n",
       "    </tr>\n",
       "    <tr>\n",
       "      <th>29</th>\n",
       "      <td>b80344d063b5ccb3212f76538f3d9e43d87dca9e</td>\n",
       "      <td>SORZASF12A6D4F8CFA</td>\n",
       "      <td>2.0</td>\n",
       "      <td>2542</td>\n",
       "    </tr>\n",
       "    <tr>\n",
       "      <th>...</th>\n",
       "      <td>...</td>\n",
       "      <td>...</td>\n",
       "      <td>...</td>\n",
       "      <td>...</td>\n",
       "    </tr>\n",
       "    <tr>\n",
       "      <th>92390</th>\n",
       "      <td>2db20d301139332597120617d8dc07b6b3e9fe0a</td>\n",
       "      <td>SORHRZS12AB0185CC2</td>\n",
       "      <td>1.0</td>\n",
       "      <td>601</td>\n",
       "    </tr>\n",
       "    <tr>\n",
       "      <th>92391</th>\n",
       "      <td>2db20d301139332597120617d8dc07b6b3e9fe0a</td>\n",
       "      <td>SOUBTAP12A8C139265</td>\n",
       "      <td>1.0</td>\n",
       "      <td>601</td>\n",
       "    </tr>\n",
       "    <tr>\n",
       "      <th>92392</th>\n",
       "      <td>2db20d301139332597120617d8dc07b6b3e9fe0a</td>\n",
       "      <td>SOUGMXP12AB017C76C</td>\n",
       "      <td>1.0</td>\n",
       "      <td>601</td>\n",
       "    </tr>\n",
       "    <tr>\n",
       "      <th>92393</th>\n",
       "      <td>2db20d301139332597120617d8dc07b6b3e9fe0a</td>\n",
       "      <td>SOULYQW12A8C13708E</td>\n",
       "      <td>1.0</td>\n",
       "      <td>601</td>\n",
       "    </tr>\n",
       "    <tr>\n",
       "      <th>92394</th>\n",
       "      <td>2db20d301139332597120617d8dc07b6b3e9fe0a</td>\n",
       "      <td>SOVALQH12AB0189114</td>\n",
       "      <td>4.0</td>\n",
       "      <td>601</td>\n",
       "    </tr>\n",
       "    <tr>\n",
       "      <th>92395</th>\n",
       "      <td>2db20d301139332597120617d8dc07b6b3e9fe0a</td>\n",
       "      <td>SOVDNHN12A6D4F83FD</td>\n",
       "      <td>1.0</td>\n",
       "      <td>601</td>\n",
       "    </tr>\n",
       "    <tr>\n",
       "      <th>92396</th>\n",
       "      <td>2db20d301139332597120617d8dc07b6b3e9fe0a</td>\n",
       "      <td>SOVIGZG12A6D4FB188</td>\n",
       "      <td>1.0</td>\n",
       "      <td>601</td>\n",
       "    </tr>\n",
       "    <tr>\n",
       "      <th>92397</th>\n",
       "      <td>2db20d301139332597120617d8dc07b6b3e9fe0a</td>\n",
       "      <td>SOXFPND12AB017C9D1</td>\n",
       "      <td>1.0</td>\n",
       "      <td>601</td>\n",
       "    </tr>\n",
       "    <tr>\n",
       "      <th>92398</th>\n",
       "      <td>2db20d301139332597120617d8dc07b6b3e9fe0a</td>\n",
       "      <td>SOXOURR12AB0186379</td>\n",
       "      <td>4.0</td>\n",
       "      <td>601</td>\n",
       "    </tr>\n",
       "    <tr>\n",
       "      <th>92399</th>\n",
       "      <td>2db20d301139332597120617d8dc07b6b3e9fe0a</td>\n",
       "      <td>SOZRFIV12A8C140D13</td>\n",
       "      <td>9.0</td>\n",
       "      <td>601</td>\n",
       "    </tr>\n",
       "    <tr>\n",
       "      <th>92400</th>\n",
       "      <td>122e1b1b01d54545df6c56ed88bc1f6ee98dcc1f</td>\n",
       "      <td>SOAUIZJ12A6D4FC011</td>\n",
       "      <td>15.0</td>\n",
       "      <td>235</td>\n",
       "    </tr>\n",
       "    <tr>\n",
       "      <th>92401</th>\n",
       "      <td>122e1b1b01d54545df6c56ed88bc1f6ee98dcc1f</td>\n",
       "      <td>SOBADEB12AB018275F</td>\n",
       "      <td>2.0</td>\n",
       "      <td>235</td>\n",
       "    </tr>\n",
       "    <tr>\n",
       "      <th>92402</th>\n",
       "      <td>122e1b1b01d54545df6c56ed88bc1f6ee98dcc1f</td>\n",
       "      <td>SOCBJEC12AB018B710</td>\n",
       "      <td>4.0</td>\n",
       "      <td>235</td>\n",
       "    </tr>\n",
       "    <tr>\n",
       "      <th>92403</th>\n",
       "      <td>122e1b1b01d54545df6c56ed88bc1f6ee98dcc1f</td>\n",
       "      <td>SOCKSGZ12A58A7CA4B</td>\n",
       "      <td>1.0</td>\n",
       "      <td>235</td>\n",
       "    </tr>\n",
       "    <tr>\n",
       "      <th>92404</th>\n",
       "      <td>122e1b1b01d54545df6c56ed88bc1f6ee98dcc1f</td>\n",
       "      <td>SOCSOVM12A8C135DBF</td>\n",
       "      <td>3.0</td>\n",
       "      <td>235</td>\n",
       "    </tr>\n",
       "    <tr>\n",
       "      <th>92405</th>\n",
       "      <td>122e1b1b01d54545df6c56ed88bc1f6ee98dcc1f</td>\n",
       "      <td>SOFSLOC12A8C13F8BD</td>\n",
       "      <td>1.0</td>\n",
       "      <td>235</td>\n",
       "    </tr>\n",
       "    <tr>\n",
       "      <th>92406</th>\n",
       "      <td>122e1b1b01d54545df6c56ed88bc1f6ee98dcc1f</td>\n",
       "      <td>SOHHJYE12A8AE47599</td>\n",
       "      <td>17.0</td>\n",
       "      <td>235</td>\n",
       "    </tr>\n",
       "    <tr>\n",
       "      <th>92407</th>\n",
       "      <td>122e1b1b01d54545df6c56ed88bc1f6ee98dcc1f</td>\n",
       "      <td>SOKNNMN12A6D4FBE0A</td>\n",
       "      <td>10.0</td>\n",
       "      <td>235</td>\n",
       "    </tr>\n",
       "    <tr>\n",
       "      <th>92408</th>\n",
       "      <td>122e1b1b01d54545df6c56ed88bc1f6ee98dcc1f</td>\n",
       "      <td>SOKUECJ12A6D4F6129</td>\n",
       "      <td>1.0</td>\n",
       "      <td>235</td>\n",
       "    </tr>\n",
       "    <tr>\n",
       "      <th>92409</th>\n",
       "      <td>122e1b1b01d54545df6c56ed88bc1f6ee98dcc1f</td>\n",
       "      <td>SOMMJVR12A6D4F98E0</td>\n",
       "      <td>1.0</td>\n",
       "      <td>235</td>\n",
       "    </tr>\n",
       "    <tr>\n",
       "      <th>92410</th>\n",
       "      <td>122e1b1b01d54545df6c56ed88bc1f6ee98dcc1f</td>\n",
       "      <td>SOOHLII12A67ADD886</td>\n",
       "      <td>6.0</td>\n",
       "      <td>235</td>\n",
       "    </tr>\n",
       "    <tr>\n",
       "      <th>92411</th>\n",
       "      <td>122e1b1b01d54545df6c56ed88bc1f6ee98dcc1f</td>\n",
       "      <td>SOONESR12A6D4F6387</td>\n",
       "      <td>2.0</td>\n",
       "      <td>235</td>\n",
       "    </tr>\n",
       "    <tr>\n",
       "      <th>92412</th>\n",
       "      <td>122e1b1b01d54545df6c56ed88bc1f6ee98dcc1f</td>\n",
       "      <td>SOSIPFF12AB01853C6</td>\n",
       "      <td>2.0</td>\n",
       "      <td>235</td>\n",
       "    </tr>\n",
       "    <tr>\n",
       "      <th>92413</th>\n",
       "      <td>122e1b1b01d54545df6c56ed88bc1f6ee98dcc1f</td>\n",
       "      <td>SOUCBEB12A6310E1F9</td>\n",
       "      <td>1.0</td>\n",
       "      <td>235</td>\n",
       "    </tr>\n",
       "    <tr>\n",
       "      <th>92414</th>\n",
       "      <td>122e1b1b01d54545df6c56ed88bc1f6ee98dcc1f</td>\n",
       "      <td>SOWGEWN12A6D4F789B</td>\n",
       "      <td>2.0</td>\n",
       "      <td>235</td>\n",
       "    </tr>\n",
       "    <tr>\n",
       "      <th>92415</th>\n",
       "      <td>122e1b1b01d54545df6c56ed88bc1f6ee98dcc1f</td>\n",
       "      <td>SOYPWKK12A8C136494</td>\n",
       "      <td>7.0</td>\n",
       "      <td>235</td>\n",
       "    </tr>\n",
       "    <tr>\n",
       "      <th>92416</th>\n",
       "      <td>122e1b1b01d54545df6c56ed88bc1f6ee98dcc1f</td>\n",
       "      <td>SOYVXRG12A6701F2F9</td>\n",
       "      <td>2.0</td>\n",
       "      <td>235</td>\n",
       "    </tr>\n",
       "    <tr>\n",
       "      <th>92417</th>\n",
       "      <td>c2db5116cc0059dfea6019af0c2f7305e762c54f</td>\n",
       "      <td>SOCHBAR12AB0187BA9</td>\n",
       "      <td>1.0</td>\n",
       "      <td>2703</td>\n",
       "    </tr>\n",
       "    <tr>\n",
       "      <th>92418</th>\n",
       "      <td>c2db5116cc0059dfea6019af0c2f7305e762c54f</td>\n",
       "      <td>SOGRJCX12A67ADC8EB</td>\n",
       "      <td>17.0</td>\n",
       "      <td>2703</td>\n",
       "    </tr>\n",
       "    <tr>\n",
       "      <th>92419</th>\n",
       "      <td>c2db511</td>\n",
       "      <td>NaN</td>\n",
       "      <td>NaN</td>\n",
       "      <td>2702</td>\n",
       "    </tr>\n",
       "  </tbody>\n",
       "</table>\n",
       "<p>92420 rows × 4 columns</p>\n",
       "</div>"
      ],
      "text/plain": [
       "                                           user                song  listens  \\\n",
       "0      b80344d063b5ccb3212f76538f3d9e43d87dca9e  SOAKIMP12A8C130995      1.0   \n",
       "1      b80344d063b5ccb3212f76538f3d9e43d87dca9e  SOBBMDR12A8C13253B      2.0   \n",
       "2      b80344d063b5ccb3212f76538f3d9e43d87dca9e  SOBXHDL12A81C204C0      1.0   \n",
       "3      b80344d063b5ccb3212f76538f3d9e43d87dca9e  SOBYHAJ12A6701BF1D      1.0   \n",
       "4      b80344d063b5ccb3212f76538f3d9e43d87dca9e  SODACBL12A8C13C273      1.0   \n",
       "5      b80344d063b5ccb3212f76538f3d9e43d87dca9e  SODDNQT12A6D4F5F7E      5.0   \n",
       "6      b80344d063b5ccb3212f76538f3d9e43d87dca9e  SODXRTY12AB0180F3B      1.0   \n",
       "7      b80344d063b5ccb3212f76538f3d9e43d87dca9e  SOFGUAY12AB017B0A8      1.0   \n",
       "8      b80344d063b5ccb3212f76538f3d9e43d87dca9e  SOFRQTD12A81C233C0      1.0   \n",
       "9      b80344d063b5ccb3212f76538f3d9e43d87dca9e  SOHQWYZ12A6D4FA701      1.0   \n",
       "10     b80344d063b5ccb3212f76538f3d9e43d87dca9e  SOIYTOA12A6D4F9A23      1.0   \n",
       "11     b80344d063b5ccb3212f76538f3d9e43d87dca9e  SOIZAZL12A6701C53B      5.0   \n",
       "12     b80344d063b5ccb3212f76538f3d9e43d87dca9e  SOJNNUA12A8AE48C7A      1.0   \n",
       "13     b80344d063b5ccb3212f76538f3d9e43d87dca9e  SOJPFQG12A58A7833A      1.0   \n",
       "14     b80344d063b5ccb3212f76538f3d9e43d87dca9e  SOKRIMP12A6D4F5DA3      5.0   \n",
       "15     b80344d063b5ccb3212f76538f3d9e43d87dca9e  SOLLGNU12AF72A4D4F      1.0   \n",
       "16     b80344d063b5ccb3212f76538f3d9e43d87dca9e  SOMGIYR12AB0187973      6.0   \n",
       "17     b80344d063b5ccb3212f76538f3d9e43d87dca9e  SOMLMKI12A81C204BC      1.0   \n",
       "18     b80344d063b5ccb3212f76538f3d9e43d87dca9e  SOMSQJY12A8C138539      1.0   \n",
       "19     b80344d063b5ccb3212f76538f3d9e43d87dca9e  SONSAEZ12A8C138D7A      1.0   \n",
       "20     b80344d063b5ccb3212f76538f3d9e43d87dca9e  SOOKGRB12A8C13CD66      1.0   \n",
       "21     b80344d063b5ccb3212f76538f3d9e43d87dca9e  SOPCVQE12AC468AF36      1.0   \n",
       "22     b80344d063b5ccb3212f76538f3d9e43d87dca9e  SOQIVUD12AB01821D2      1.0   \n",
       "23     b80344d063b5ccb3212f76538f3d9e43d87dca9e  SOQJLDY12AAF3B456D      1.0   \n",
       "24     b80344d063b5ccb3212f76538f3d9e43d87dca9e  SOQLCKR12A81C22440      1.0   \n",
       "25     b80344d063b5ccb3212f76538f3d9e43d87dca9e  SORPMYJ12AF729EB90      1.0   \n",
       "26     b80344d063b5ccb3212f76538f3d9e43d87dca9e  SORQHCG12A58A7EEBA      1.0   \n",
       "27     b80344d063b5ccb3212f76538f3d9e43d87dca9e  SORUFVF12AB018230B      1.0   \n",
       "28     b80344d063b5ccb3212f76538f3d9e43d87dca9e  SORWLTW12A670208FA      1.0   \n",
       "29     b80344d063b5ccb3212f76538f3d9e43d87dca9e  SORZASF12A6D4F8CFA      2.0   \n",
       "...                                         ...                 ...      ...   \n",
       "92390  2db20d301139332597120617d8dc07b6b3e9fe0a  SORHRZS12AB0185CC2      1.0   \n",
       "92391  2db20d301139332597120617d8dc07b6b3e9fe0a  SOUBTAP12A8C139265      1.0   \n",
       "92392  2db20d301139332597120617d8dc07b6b3e9fe0a  SOUGMXP12AB017C76C      1.0   \n",
       "92393  2db20d301139332597120617d8dc07b6b3e9fe0a  SOULYQW12A8C13708E      1.0   \n",
       "92394  2db20d301139332597120617d8dc07b6b3e9fe0a  SOVALQH12AB0189114      4.0   \n",
       "92395  2db20d301139332597120617d8dc07b6b3e9fe0a  SOVDNHN12A6D4F83FD      1.0   \n",
       "92396  2db20d301139332597120617d8dc07b6b3e9fe0a  SOVIGZG12A6D4FB188      1.0   \n",
       "92397  2db20d301139332597120617d8dc07b6b3e9fe0a  SOXFPND12AB017C9D1      1.0   \n",
       "92398  2db20d301139332597120617d8dc07b6b3e9fe0a  SOXOURR12AB0186379      4.0   \n",
       "92399  2db20d301139332597120617d8dc07b6b3e9fe0a  SOZRFIV12A8C140D13      9.0   \n",
       "92400  122e1b1b01d54545df6c56ed88bc1f6ee98dcc1f  SOAUIZJ12A6D4FC011     15.0   \n",
       "92401  122e1b1b01d54545df6c56ed88bc1f6ee98dcc1f  SOBADEB12AB018275F      2.0   \n",
       "92402  122e1b1b01d54545df6c56ed88bc1f6ee98dcc1f  SOCBJEC12AB018B710      4.0   \n",
       "92403  122e1b1b01d54545df6c56ed88bc1f6ee98dcc1f  SOCKSGZ12A58A7CA4B      1.0   \n",
       "92404  122e1b1b01d54545df6c56ed88bc1f6ee98dcc1f  SOCSOVM12A8C135DBF      3.0   \n",
       "92405  122e1b1b01d54545df6c56ed88bc1f6ee98dcc1f  SOFSLOC12A8C13F8BD      1.0   \n",
       "92406  122e1b1b01d54545df6c56ed88bc1f6ee98dcc1f  SOHHJYE12A8AE47599     17.0   \n",
       "92407  122e1b1b01d54545df6c56ed88bc1f6ee98dcc1f  SOKNNMN12A6D4FBE0A     10.0   \n",
       "92408  122e1b1b01d54545df6c56ed88bc1f6ee98dcc1f  SOKUECJ12A6D4F6129      1.0   \n",
       "92409  122e1b1b01d54545df6c56ed88bc1f6ee98dcc1f  SOMMJVR12A6D4F98E0      1.0   \n",
       "92410  122e1b1b01d54545df6c56ed88bc1f6ee98dcc1f  SOOHLII12A67ADD886      6.0   \n",
       "92411  122e1b1b01d54545df6c56ed88bc1f6ee98dcc1f  SOONESR12A6D4F6387      2.0   \n",
       "92412  122e1b1b01d54545df6c56ed88bc1f6ee98dcc1f  SOSIPFF12AB01853C6      2.0   \n",
       "92413  122e1b1b01d54545df6c56ed88bc1f6ee98dcc1f  SOUCBEB12A6310E1F9      1.0   \n",
       "92414  122e1b1b01d54545df6c56ed88bc1f6ee98dcc1f  SOWGEWN12A6D4F789B      2.0   \n",
       "92415  122e1b1b01d54545df6c56ed88bc1f6ee98dcc1f  SOYPWKK12A8C136494      7.0   \n",
       "92416  122e1b1b01d54545df6c56ed88bc1f6ee98dcc1f  SOYVXRG12A6701F2F9      2.0   \n",
       "92417  c2db5116cc0059dfea6019af0c2f7305e762c54f  SOCHBAR12AB0187BA9      1.0   \n",
       "92418  c2db5116cc0059dfea6019af0c2f7305e762c54f  SOGRJCX12A67ADC8EB     17.0   \n",
       "92419                                   c2db511                 NaN      NaN   \n",
       "\n",
       "       user_1  \n",
       "0        2542  \n",
       "1        2542  \n",
       "2        2542  \n",
       "3        2542  \n",
       "4        2542  \n",
       "5        2542  \n",
       "6        2542  \n",
       "7        2542  \n",
       "8        2542  \n",
       "9        2542  \n",
       "10       2542  \n",
       "11       2542  \n",
       "12       2542  \n",
       "13       2542  \n",
       "14       2542  \n",
       "15       2542  \n",
       "16       2542  \n",
       "17       2542  \n",
       "18       2542  \n",
       "19       2542  \n",
       "20       2542  \n",
       "21       2542  \n",
       "22       2542  \n",
       "23       2542  \n",
       "24       2542  \n",
       "25       2542  \n",
       "26       2542  \n",
       "27       2542  \n",
       "28       2542  \n",
       "29       2542  \n",
       "...       ...  \n",
       "92390     601  \n",
       "92391     601  \n",
       "92392     601  \n",
       "92393     601  \n",
       "92394     601  \n",
       "92395     601  \n",
       "92396     601  \n",
       "92397     601  \n",
       "92398     601  \n",
       "92399     601  \n",
       "92400     235  \n",
       "92401     235  \n",
       "92402     235  \n",
       "92403     235  \n",
       "92404     235  \n",
       "92405     235  \n",
       "92406     235  \n",
       "92407     235  \n",
       "92408     235  \n",
       "92409     235  \n",
       "92410     235  \n",
       "92411     235  \n",
       "92412     235  \n",
       "92413     235  \n",
       "92414     235  \n",
       "92415     235  \n",
       "92416     235  \n",
       "92417    2703  \n",
       "92418    2703  \n",
       "92419    2702  \n",
       "\n",
       "[92420 rows x 4 columns]"
      ]
     },
     "execution_count": 60,
     "metadata": {},
     "output_type": "execute_result"
    }
   ],
   "source": []
  },
  {
   "cell_type": "code",
   "execution_count": null,
   "metadata": {
    "collapsed": true
   },
   "outputs": [],
   "source": []
  },
  {
   "cell_type": "code",
   "execution_count": 6,
   "metadata": {
    "collapsed": false
   },
   "outputs": [
    {
     "data": {
      "text/html": [
       "<div>\n",
       "<table border=\"1\" class=\"dataframe\">\n",
       "  <thead>\n",
       "    <tr style=\"text-align: right;\">\n",
       "      <th></th>\n",
       "      <th>user</th>\n",
       "      <th>song</th>\n",
       "      <th>listens</th>\n",
       "      <th>user_1</th>\n",
       "      <th>song_id</th>\n",
       "      <th>title</th>\n",
       "      <th>release</th>\n",
       "      <th>artist_name</th>\n",
       "      <th>year</th>\n",
       "      <th>song_id_1</th>\n",
       "    </tr>\n",
       "  </thead>\n",
       "  <tbody>\n",
       "    <tr>\n",
       "      <th>0</th>\n",
       "      <td>b80344d063b5ccb3212f76538f3d9e43d87dca9e</td>\n",
       "      <td>SOAKIMP12A8C130995</td>\n",
       "      <td>1.0</td>\n",
       "      <td>2542</td>\n",
       "      <td>SOAKIMP12A8C130995</td>\n",
       "      <td>The Cove</td>\n",
       "      <td>Thicker Than Water</td>\n",
       "      <td>Jack Johnson</td>\n",
       "      <td>0</td>\n",
       "      <td>17370</td>\n",
       "    </tr>\n",
       "    <tr>\n",
       "      <th>1</th>\n",
       "      <td>7c86176941718984fed11b7c0674ff04c029b480</td>\n",
       "      <td>SOAKIMP12A8C130995</td>\n",
       "      <td>1.0</td>\n",
       "      <td>1695</td>\n",
       "      <td>SOAKIMP12A8C130995</td>\n",
       "      <td>The Cove</td>\n",
       "      <td>Thicker Than Water</td>\n",
       "      <td>Jack Johnson</td>\n",
       "      <td>0</td>\n",
       "      <td>17370</td>\n",
       "    </tr>\n",
       "  </tbody>\n",
       "</table>\n",
       "</div>"
      ],
      "text/plain": [
       "                                       user                song  listens  \\\n",
       "0  b80344d063b5ccb3212f76538f3d9e43d87dca9e  SOAKIMP12A8C130995      1.0   \n",
       "1  7c86176941718984fed11b7c0674ff04c029b480  SOAKIMP12A8C130995      1.0   \n",
       "\n",
       "   user_1             song_id     title             release   artist_name  \\\n",
       "0    2542  SOAKIMP12A8C130995  The Cove  Thicker Than Water  Jack Johnson   \n",
       "1    1695  SOAKIMP12A8C130995  The Cove  Thicker Than Water  Jack Johnson   \n",
       "\n",
       "   year  song_id_1  \n",
       "0     0      17370  \n",
       "1     0      17370  "
      ]
     },
     "execution_count": 6,
     "metadata": {},
     "output_type": "execute_result"
    }
   ],
   "source": [
    "user_mapping=df[['user','user_1']].copy().drop_duplicates()\n",
    "df_2=df.merge(df_songs,left_on='song',right_on='song_id')\n",
    "df_2.head(2)"
   ]
  },
  {
   "cell_type": "code",
   "execution_count": 7,
   "metadata": {
    "collapsed": false
   },
   "outputs": [],
   "source": [
    "songs_rating_final=df_2[['user_1','song_id_1','listens']].copy()"
   ]
  },
  {
   "cell_type": "code",
   "execution_count": 8,
   "metadata": {
    "collapsed": false
   },
   "outputs": [],
   "source": [
    "pdDF = sqlContext.createDataFrame(songs_rating_final)\n",
    "songs_rating = pdDF.rdd"
   ]
  },
  {
   "cell_type": "code",
   "execution_count": 9,
   "metadata": {
    "collapsed": true
   },
   "outputs": [],
   "source": [
    "songs_rating = songs_rating.cache()"
   ]
  },
  {
   "cell_type": "code",
   "execution_count": 10,
   "metadata": {
    "collapsed": false
   },
   "outputs": [],
   "source": [
    "df_songs_1=df_songs[['song_id_1','title','release','artist_name','year']].copy()\n",
    "df_songs_1[['song_id_1','title','release','artist_name','year']]=df_songs_1[['song_id_1','title','release','artist_name','year']].astype(str)\n",
    "df_song_mapping=df_songs[['song_id','song_id_1']].copy().drop_duplicates()\n"
   ]
  },
  {
   "cell_type": "code",
   "execution_count": 11,
   "metadata": {
    "collapsed": false
   },
   "outputs": [],
   "source": [
    "pdDF_songs = sqlContext.createDataFrame(df_songs_1)\n",
    "songs_data = pdDF_songs.rdd\n",
    "\n",
    "pdDF_song_map = sqlContext.createDataFrame(df_song_mapping)\n",
    "songs_data_map = pdDF_song_map.rdd"
   ]
  },
  {
   "cell_type": "code",
   "execution_count": 12,
   "metadata": {
    "collapsed": true
   },
   "outputs": [],
   "source": [
    "songs_data = songs_data.cache()\n",
    "songs_data_map=songs_data_map.cache()"
   ]
  },
  {
   "cell_type": "code",
   "execution_count": 13,
   "metadata": {
    "collapsed": true
   },
   "outputs": [],
   "source": [
    "training_RDD, validation_RDD, test_RDD = songs_rating.randomSplit([6, 2, 2], seed=0L)\n",
    "validation_for_predict_RDD = validation_RDD.map(lambda x: (x[0], x[1]))\n",
    "test_for_predict_RDD = test_RDD.map(lambda x: (x[0], x[1]))"
   ]
  },
  {
   "cell_type": "code",
   "execution_count": 14,
   "metadata": {
    "collapsed": false
   },
   "outputs": [
    {
     "name": "stdout",
     "output_type": "stream",
     "text": [
      "For rank 4 the RMSE is 8.52762756132\n",
      "For rank 8 the RMSE is 8.52518805403\n",
      "For rank 12 the RMSE is 8.52311070008\n",
      "The best model was trained with rank 12\n"
     ]
    }
   ],
   "source": [
    "from pyspark.mllib.recommendation import ALS\n",
    "import math\n",
    "\n",
    "seed = 5L\n",
    "iterations = 10\n",
    "regularization_parameter = 0.1\n",
    "alpha = 0.05\n",
    "ranks = [4, 8, 12]\n",
    "errors = [0, 0, 0]\n",
    "err = 0\n",
    "tolerance = 0.02\n",
    "\n",
    "min_error = float('inf')\n",
    "best_rank = -1\n",
    "best_iteration = -1\n",
    "for rank in ranks:\n",
    "    model = ALS.trainImplicit(training_RDD, rank, seed=seed, iterations=iterations,\n",
    "                      lambda_=regularization_parameter,alpha=alpha)\n",
    "    predictions = model.predictAll(validation_for_predict_RDD).map(lambda r: ((r[0], r[1]), r[2]))\n",
    "    rates_and_preds = validation_RDD.map(lambda r: ((int(r[0]), int(r[1])), float(r[2]))).join(predictions)\n",
    "    error = math.sqrt(rates_and_preds.map(lambda r: (r[1][0] - r[1][1])**2).mean())\n",
    "    errors[err] = error\n",
    "    err += 1\n",
    "    print 'For rank %s the RMSE is %s' % (rank, error)\n",
    "    if error < min_error:\n",
    "        min_error = error\n",
    "        best_rank = rank\n",
    "\n",
    "print 'The best model was trained with rank %s' % best_rank"
   ]
  },
  {
   "cell_type": "code",
   "execution_count": 15,
   "metadata": {
    "collapsed": false
   },
   "outputs": [],
   "source": [
    "#predictions.take(3)"
   ]
  },
  {
   "cell_type": "code",
   "execution_count": 16,
   "metadata": {
    "collapsed": false
   },
   "outputs": [],
   "source": [
    "#rates_and_preds.take(3)"
   ]
  },
  {
   "cell_type": "code",
   "execution_count": 17,
   "metadata": {
    "collapsed": false
   },
   "outputs": [
    {
     "name": "stdout",
     "output_type": "stream",
     "text": [
      "For testing data the RMSE is 7.09578789978\n"
     ]
    }
   ],
   "source": [
    "model = ALS.trainImplicit(training_RDD, best_rank, seed=seed, iterations=iterations,\n",
    "                      lambda_=regularization_parameter,alpha=alpha)\n",
    "predictions = model.predictAll(test_for_predict_RDD).map(lambda r: ((r[0], r[1]), r[2]))\n",
    "rates_and_preds = test_RDD.map(lambda r: ((int(r[0]), int(r[1])), float(r[2]))).join(predictions)\n",
    "error = math.sqrt(rates_and_preds.map(lambda r: (r[1][0] - r[1][1])**2).mean())\n",
    "    \n",
    "print 'For testing data the RMSE is %s' % (error)"
   ]
  },
  {
   "cell_type": "code",
   "execution_count": 18,
   "metadata": {
    "collapsed": false
   },
   "outputs": [],
   "source": [
    "from pyspark.mllib.recommendation import MatrixFactorizationModel\n",
    "\n",
    "model_path = os.path.join('file:/vagrant', 'model', 'songs')\n",
    "\n",
    "# Save and load model\n",
    "#model.save(sc, model_path)\n",
    "same_model = MatrixFactorizationModel.load(sc, model_path)"
   ]
  },
  {
   "cell_type": "code",
   "execution_count": 19,
   "metadata": {
    "collapsed": true
   },
   "outputs": [],
   "source": [
    "def get_counts_and_averages(ID_and_ratings_tuple):\n",
    "    nratings = len(ID_and_ratings_tuple[1])\n",
    "    return ID_and_ratings_tuple[0], (nratings, float(sum(x for x in ID_and_ratings_tuple[1]))/nratings)\n",
    "\n",
    "songs_ID_with_ratings_RDD = (songs_rating.map(lambda x: (x[1], x[2])).groupByKey())\n",
    "songs_ID_with_avg_ratings_RDD = songs_ID_with_ratings_RDD.map(get_counts_and_averages)\n",
    "songs_rating_counts_RDD = songs_ID_with_avg_ratings_RDD.map(lambda x: (x[0], x[1][0]))"
   ]
  },
  {
   "cell_type": "code",
   "execution_count": 20,
   "metadata": {
    "collapsed": false
   },
   "outputs": [],
   "source": [
    "#songs_rating.take(2)"
   ]
  },
  {
   "cell_type": "code",
   "execution_count": 21,
   "metadata": {
    "collapsed": false
   },
   "outputs": [
    {
     "data": {
      "text/plain": [
       "3554"
      ]
     },
     "execution_count": 21,
     "metadata": {},
     "output_type": "execute_result"
    }
   ],
   "source": [
    "user_mapping[user_mapping['user']=='ff4322e94814d3c7895d07e6f94139b092862611']['user_1'].values[0]"
   ]
  },
  {
   "cell_type": "code",
   "execution_count": 22,
   "metadata": {
    "collapsed": false
   },
   "outputs": [
    {
     "data": {
      "text/plain": [
       "[Row(user_1=1417, song_id_1=442793, listens=1.0)]"
      ]
     },
     "execution_count": 22,
     "metadata": {},
     "output_type": "execute_result"
    }
   ],
   "source": [
    "user_id = 1417\n",
    "user_id_songs_listened = songs_rating.filter(lambda x: x[0] == user_id)\n",
    "user_id_songs_listened.take(1)"
   ]
  },
  {
   "cell_type": "code",
   "execution_count": 23,
   "metadata": {
    "collapsed": false
   },
   "outputs": [],
   "source": [
    "songs_listened_by_user = user_id_songs_listened.map(lambda x: x[1], user_id_songs_listened)\n",
    "songs_listened_by_user_1=[x for x in songs_listened_by_user.toLocalIterator()]"
   ]
  },
  {
   "cell_type": "code",
   "execution_count": 24,
   "metadata": {
    "collapsed": false
   },
   "outputs": [],
   "source": [
    "#songs_data_map.take(1)"
   ]
  },
  {
   "cell_type": "code",
   "execution_count": 25,
   "metadata": {
    "collapsed": false
   },
   "outputs": [],
   "source": [
    "user_not_listened_songs_RDD = songs_data_map.filter(lambda x: x[1] not in songs_listened_by_user_1)\\\n",
    ".map(lambda x: (user_id, x[1]))\n",
    "#new_user_recommendations_RDD = new_ratings_model.predictAll(new_user_unrated_songs_RDD)"
   ]
  },
  {
   "cell_type": "code",
   "execution_count": 26,
   "metadata": {
    "collapsed": false
   },
   "outputs": [],
   "source": [
    "user_recommendations_RDD = same_model.predictAll(user_not_listened_songs_RDD)"
   ]
  },
  {
   "cell_type": "code",
   "execution_count": 27,
   "metadata": {
    "collapsed": false
   },
   "outputs": [],
   "source": [
    "user_recommendations_song_RDD = user_recommendations_RDD.map(lambda x: (x.product, x.rating))"
   ]
  },
  {
   "cell_type": "code",
   "execution_count": 28,
   "metadata": {
    "collapsed": false
   },
   "outputs": [],
   "source": [
    "song_titles = songs_data.map(lambda x: (int(x[0]),x[1] + ': ' + x[3] + '-' + x[4]))\n",
    "#song_titles.take(1)"
   ]
  },
  {
   "cell_type": "code",
   "execution_count": 29,
   "metadata": {
    "collapsed": true
   },
   "outputs": [],
   "source": [
    "user_recommendations_rating_title_and_count_RDD = \\\n",
    "    user_recommendations_song_RDD.join(song_titles).join(songs_rating_counts_RDD)"
   ]
  },
  {
   "cell_type": "code",
   "execution_count": 30,
   "metadata": {
    "collapsed": false
   },
   "outputs": [],
   "source": [
    "user_recommendations_rating_title_and_count_RDD = \\\n",
    "    user_recommendations_rating_title_and_count_RDD.map(lambda r: (r[1][0][1], r[1][0][0], r[1][1]))"
   ]
  },
  {
   "cell_type": "code",
   "execution_count": 31,
   "metadata": {
    "collapsed": false
   },
   "outputs": [
    {
     "name": "stdout",
     "output_type": "stream",
     "text": [
      "TOP recommended songs (with more than 50 listen count):\n",
      "(u'Howlin\\x19 For You: The Black Keys-2010', 0.017589063048736822, 64)\n",
      "(u'Tighten Up: The Black Keys-2010', 0.01754664945756507, 97)\n",
      "(u'Cosmic Love: Florence + The Machine-2009', 0.015783973320884034, 105)\n",
      "(u'Bubble Toes: Jack Johnson-2000', 0.012751606438180633, 150)\n",
      "(u\"I'm Not Calling You A Liar: Florence + The Machine-2009\", 0.011349329743872783, 58)\n"
     ]
    }
   ],
   "source": [
    "top_songs = user_recommendations_rating_title_and_count_RDD.filter(lambda r: r[2]>=50).distinct().takeOrdered(5, key=lambda x: -x[1])\n",
    "\n",
    "print ('TOP recommended songs (with more than 50 listen count):\\n%s' %\n",
    "        '\\n'.join(map(str, top_songs)))"
   ]
  },
  {
   "cell_type": "code",
   "execution_count": 54,
   "metadata": {
    "collapsed": false,
    "scrolled": true
   },
   "outputs": [
    {
     "name": "stdout",
     "output_type": "stream",
     "text": [
      "Loading Recommendations: ............\n",
      "Recommendation took 0:02:05.053876 \n"
     ]
    },
    {
     "data": {
      "text/html": [
       "<div>\n",
       "<table border=\"1\" class=\"dataframe\">\n",
       "  <thead>\n",
       "    <tr style=\"text-align: right;\">\n",
       "      <th></th>\n",
       "      <th>songs</th>\n",
       "    </tr>\n",
       "  </thead>\n",
       "  <tbody>\n",
       "    <tr>\n",
       "      <th>0</th>\n",
       "      <td>Bring Me To Life: Evanescence</td>\n",
       "    </tr>\n",
       "    <tr>\n",
       "      <th>1</th>\n",
       "      <td>You're The One: Dwight Yoakam</td>\n",
       "    </tr>\n",
       "    <tr>\n",
       "      <th>2</th>\n",
       "      <td>Nothin' On You [feat. Bruno Mars] (Album Versi...</td>\n",
       "    </tr>\n",
       "    <tr>\n",
       "      <th>3</th>\n",
       "      <td>My Immortal: Evanescence</td>\n",
       "    </tr>\n",
       "    <tr>\n",
       "      <th>4</th>\n",
       "      <td>My Immortal (Album Version): Evanescence</td>\n",
       "    </tr>\n",
       "    <tr>\n",
       "      <th>5</th>\n",
       "      <td>Bubble Toes: Jack Johnson</td>\n",
       "    </tr>\n",
       "    <tr>\n",
       "      <th>6</th>\n",
       "      <td>Gives You Hell: The All-American Rejects</td>\n",
       "    </tr>\n",
       "    <tr>\n",
       "      <th>7</th>\n",
       "      <td>Hips Don't Lie: Shakira ft. Wyclef Jean</td>\n",
       "    </tr>\n",
       "    <tr>\n",
       "      <th>8</th>\n",
       "      <td>Hips Don't Lie (featuring Wyclef Jean): Shakir...</td>\n",
       "    </tr>\n",
       "    <tr>\n",
       "      <th>9</th>\n",
       "      <td>Livin' On A Prayer: Bon Jovi</td>\n",
       "    </tr>\n",
       "  </tbody>\n",
       "</table>\n",
       "</div>"
      ],
      "text/plain": [
       "                                               songs\n",
       "0                      Bring Me To Life: Evanescence\n",
       "1                      You're The One: Dwight Yoakam\n",
       "2  Nothin' On You [feat. Bruno Mars] (Album Versi...\n",
       "3                           My Immortal: Evanescence\n",
       "4           My Immortal (Album Version): Evanescence\n",
       "5                          Bubble Toes: Jack Johnson\n",
       "6           Gives You Hell: The All-American Rejects\n",
       "7            Hips Don't Lie: Shakira ft. Wyclef Jean\n",
       "8  Hips Don't Lie (featuring Wyclef Jean): Shakir...\n",
       "9                       Livin' On A Prayer: Bon Jovi"
      ]
     },
     "metadata": {},
     "output_type": "display_data"
    }
   ],
   "source": [
    "import difflib\n",
    "import random\n",
    "import requests\n",
    "import ipywidgets as widgets\n",
    "from ipywidgets import Button, Layout\n",
    "from ipywidgets import Layout, Button, Box, FloatText, Textarea, Dropdown, Label, IntSlider, Text\n",
    "from IPython.display import clear_output, display\n",
    "import time\n",
    "\n",
    "user_list = pd.read_csv('file:/vagrant/songProfiles.csv')\n",
    "user_list['songs'] = user_list['songs'].str.split('|')\n",
    "\n",
    "# Button for generating the recommendations\n",
    "\n",
    "def on_rec_clicked(rec):\n",
    "    clear_output()\n",
    "    print('Loading Recommendations: ............')\n",
    "    st_time = datetime.datetime.now()\n",
    "    user_id = user_mapping[user_mapping['user']==user_list['user_id'][tab.selected_index]]['user_1'].values[0]\n",
    "    user_id_songs_listened = songs_rating.filter(lambda x: x[0] == user_id)\n",
    "    songs_listened_by_user = user_id_songs_listened.map(lambda x: x[1], user_id_songs_listened)\n",
    "    songs_listened_by_user_1=[x for x in songs_listened_by_user.toLocalIterator()]\n",
    "    user_not_listened_songs_RDD = songs_data_map.filter(lambda x: x[1] not in songs_listened_by_user_1)\\\n",
    "    .map(lambda x: (user_id, x[1]))\n",
    "    \n",
    "    user_recommendations_RDD = same_model.predictAll(user_not_listened_songs_RDD)\n",
    "    user_recommendations_song_RDD = user_recommendations_RDD.map(lambda x: (x.product, x.rating))\n",
    "    song_titles = songs_data.map(lambda x: (int(x[0]),x[1] + ': ' + x[3]))\n",
    "    top_songs = \\\n",
    "        user_recommendations_song_RDD.join(song_titles).join(songs_rating_counts_RDD)\\\n",
    "        .map(lambda r: (r[1][0][1], r[1][0][0], r[1][1]))\\\n",
    "        .filter(lambda r: r[2]>=50).distinct().takeOrdered(10, key=lambda x: -x[1])\n",
    "    print('Recommendation took {} '.format(datetime.datetime.now() - st_time))\n",
    "    display(pd.DataFrame({'songs':[row[0] for row in top_songs]}))\n",
    "    #results = is_model.get_user_items(child.description)\n",
    "    #clear_output()\n",
    "    #display(results[['rank','song']])\n",
    "\n",
    "rec = Button(description='Generate  Recommendations',\n",
    "       layout=Layout(width='100%', height='80px'), button_style = 'info')\n",
    "\n",
    "rec.on_click(on_rec_clicked)\n",
    "    \n",
    "#Clear Button\n",
    "clear = Button(description='Clear',\n",
    "           layout=Layout(width='100%', height='80px'),button_style = 'primary')\n",
    "\n",
    "def on_clear(clear):\n",
    "    clear_output()\n",
    "    return(tab)\n",
    "\n",
    "clear.on_click(on_clear)\n",
    "\n",
    "\n",
    "tab_list = user_list['user_name']\n",
    "children = []\n",
    "tab = widgets.Tab()\n",
    "for i in range(len(tab_list)):\n",
    "    #tab.children = (dropdown,button_form)\n",
    "    tab.set_title(i, str(tab_list[i]))\n",
    "    songs = user_list['songs'][i]\n",
    "    user_song_labels= [widgets.Label(str(song)) for song in songs]\n",
    "    child = widgets.VBox(user_song_labels,description = user_list['user_id'][i],\n",
    "            layout=Layout(\n",
    "               display='flex',\n",
    "             flex_flow='column',\n",
    "               border='solid 2px',\n",
    "               width='75%'))\n",
    "\n",
    "    button_form = Box(children=(rec,clear),\n",
    "                    layout=Layout(display='flex',\n",
    "                     flex_flow='column',\n",
    "                    border='solid 2px',\n",
    "                    fill='grey',          \n",
    "           align_items='center',\n",
    "           width='50%'))\n",
    "    full_form = widgets.HBox([child,button_form])\n",
    "    children.append(full_form)\n",
    "    \n",
    "\n",
    "\n",
    "tab.children = tuple(children)\n",
    "tab"
   ]
  },
  {
   "cell_type": "code",
   "execution_count": 56,
   "metadata": {
    "collapsed": false
   },
   "outputs": [
    {
     "ename": "TypeError",
     "evalue": "string indices must be integers, not str",
     "output_type": "error",
     "traceback": [
      "\u001b[0;31m---------------------------------------------------------------------------\u001b[0m",
      "\u001b[0;31mTypeError\u001b[0m                                 Traceback (most recent call last)",
      "\u001b[0;32m<ipython-input-56-cacdf9a53d8f>\u001b[0m in \u001b[0;36m<module>\u001b[0;34m()\u001b[0m\n\u001b[0;32m----> 1\u001b[0;31m \u001b[0muser_list\u001b[0m\u001b[0;34m[\u001b[0m\u001b[0;34m'user_id'\u001b[0m\u001b[0;34m]\u001b[0m\u001b[0;34m[\u001b[0m\u001b[0mtab\u001b[0m\u001b[0;34m.\u001b[0m\u001b[0mselected_index\u001b[0m\u001b[0;34m]\u001b[0m\u001b[0;34m[\u001b[0m\u001b[0;34m'user_1'\u001b[0m\u001b[0;34m]\u001b[0m\u001b[0;34m.\u001b[0m\u001b[0mvalues\u001b[0m\u001b[0;34m[\u001b[0m\u001b[0;36m0\u001b[0m\u001b[0;34m]\u001b[0m\u001b[0;34m\u001b[0m\u001b[0m\n\u001b[0m",
      "\u001b[0;31mTypeError\u001b[0m: string indices must be integers, not str"
     ]
    }
   ],
   "source": [
    "user_list['user_id'][tab.selected_index]['user_1'].values[0]"
   ]
  },
  {
   "cell_type": "code",
   "execution_count": 57,
   "metadata": {
    "collapsed": false
   },
   "outputs": [
    {
     "data": {
      "text/plain": [
       "3529"
      ]
     },
     "execution_count": 57,
     "metadata": {},
     "output_type": "execute_result"
    }
   ],
   "source": [
    " user_mapping[user_mapping['user']==user_list['user_id'][tab.selected_index]]['user_1'].values[0]"
   ]
  },
  {
   "cell_type": "code",
   "execution_count": 58,
   "metadata": {
    "collapsed": false
   },
   "outputs": [
    {
     "data": {
      "text/plain": [
       "'fd7b78f7c22a39b64bbb9e49cee0ffe2dac5b849'"
      ]
     },
     "execution_count": 58,
     "metadata": {},
     "output_type": "execute_result"
    }
   ],
   "source": [
    "user_list['user_id'][tab.selected_index]"
   ]
  }
 ],
 "metadata": {
  "kernelspec": {
   "display_name": "Python 2",
   "language": "python",
   "name": "python2"
  },
  "language_info": {
   "codemirror_mode": {
    "name": "ipython",
    "version": 2
   },
   "file_extension": ".py",
   "mimetype": "text/x-python",
   "name": "python",
   "nbconvert_exporter": "python",
   "pygments_lexer": "ipython2",
   "version": "2.7.13"
  },
  "widgets": {
   "state": {
    "d03c40b18c5645d5a6cc21bf5d7c2af8": {
     "views": [
      {
       "cell_index": 32
      }
     ]
    }
   },
   "version": "1.2.0"
  }
 },
 "nbformat": 4,
 "nbformat_minor": 2
}
